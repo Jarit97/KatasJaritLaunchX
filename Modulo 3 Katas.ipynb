{
 "cells": [
  {
   "cell_type": "markdown",
   "metadata": {},
   "source": [
    "# Ejercicio 1"
   ]
  },
  {
   "cell_type": "code",
   "execution_count": 1,
   "metadata": {},
   "outputs": [
    {
     "name": "stdout",
     "output_type": "stream",
     "text": [
      "Dianne es menor que Moises\n"
     ]
    }
   ],
   "source": [
    "Dianne = 16\n",
    "Moises = 25\n",
    "Jarit = 27\n",
    "if Dianne > Moises:\n",
    "    if Moises > Jarit:\n",
    "        print (\"Dianne es mayor que Moises y Moises es mayor que Jarit\")\n",
    "    else:\n",
    "        print (\"Dianne es mayor que Moises y menor que Jarit\")\n",
    "elif Dianne == Moises:\n",
    "    print (\"Dianne tiene la misma edad que Moises\")\n",
    "else:\n",
    "    print (\"Dianne es menor que Moises\")             "
   ]
  },
  {
   "cell_type": "markdown",
   "metadata": {},
   "source": [
    "# Ejercicio 2"
   ]
  },
  {
   "cell_type": "code",
   "execution_count": 2,
   "metadata": {},
   "outputs": [
    {
     "name": "stdout",
     "output_type": "stream",
     "text": [
      "Se acerca un asteroide peligroso\n"
     ]
    }
   ],
   "source": [
    "Asteroide = 49\n",
    "if Asteroide > 25:\n",
    "    print (\"Se acerca un asteroide peligroso\")\n",
    "else:\n",
    "    print (\"La tierra no corre peligro\")    \n"
   ]
  },
  {
   "cell_type": "markdown",
   "metadata": {},
   "source": [
    "# Ejercicio 3"
   ]
  },
  {
   "cell_type": "code",
   "execution_count": 3,
   "metadata": {},
   "outputs": [
    {
     "name": "stdout",
     "output_type": "stream",
     "text": [
      "Todo OK\n"
     ]
    }
   ],
   "source": [
    "Asteroide = 19\n",
    "if Asteroide > 20:\n",
    "    print (\"Hay un asteroide que viene a la tierra se ve en el cielo\")\n",
    "elif Asteroide == 20:\n",
    "    print (\"Hay un asteroide que viene a la tierra se ve en el cielo\") \n",
    "else:\n",
    "    print (\"Todo OK\")\n"
   ]
  },
  {
   "cell_type": "markdown",
   "metadata": {},
   "source": [
    "# Ejercicio 4"
   ]
  },
  {
   "cell_type": "code",
   "execution_count": 5,
   "metadata": {},
   "outputs": [
    {
     "name": "stdout",
     "output_type": "stream",
     "text": [
      "Hay un asteroide que viene a la tierra se ve en el cielo\n"
     ]
    }
   ],
   "source": [
    "Velocidadasteroide = 25\n",
    "Tamanoasteroide = 40\n",
    "if Velocidadasteroide > 25 and Tamanoasteroide > 25:\n",
    "    print(\"¡PELIGRO, Un asteroide viene hacia la Tierra!\")\n",
    "elif Velocidadasteroide >= 20:\n",
    "    print(\"Hay un asteroide que viene a la tierra se ve en el cielo\")\n",
    "elif Tamanoasteroide < 25:\n",
    "    print(\"Todo OK\")\n",
    "else:\n",
    "    print(\"Todo OK\")"
   ]
  }
 ],
 "metadata": {
  "interpreter": {
   "hash": "eac4b5657b4e78055ce0a5b601b4b2a8a38e37c567681ea45e7cf3e1f20ae407"
  },
  "kernelspec": {
   "display_name": "Python 3.10.2 64-bit",
   "language": "python",
   "name": "python3"
  },
  "language_info": {
   "codemirror_mode": {
    "name": "ipython",
    "version": 3
   },
   "file_extension": ".py",
   "mimetype": "text/x-python",
   "name": "python",
   "nbconvert_exporter": "python",
   "pygments_lexer": "ipython3",
   "version": "3.10.2"
  },
  "orig_nbformat": 4
 },
 "nbformat": 4,
 "nbformat_minor": 2
}
